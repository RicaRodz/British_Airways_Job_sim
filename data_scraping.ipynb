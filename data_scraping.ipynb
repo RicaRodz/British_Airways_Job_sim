{
 "cells": [
  {
   "cell_type": "code",
   "execution_count": 110,
   "metadata": {},
   "outputs": [],
   "source": [
    "from bs4 import BeautifulSoup\n",
    "import pandas as pd\n",
    "import requests\n",
    "import string\n",
    "import nltk\n",
    "from nltk.corpus import stopwords\n",
    "from collections import Counter\n",
    "import re\n",
    "from textblob import Word, TextBlob\n",
    "import matplotlib.pyplot as plt\n",
    "from wordcloud import WordCloud\n",
    "\n"
   ]
  },
  {
   "cell_type": "markdown",
   "metadata": {},
   "source": [
    "# Data Scraping"
   ]
  },
  {
   "cell_type": "code",
   "execution_count": 5,
   "metadata": {},
   "outputs": [
    {
     "name": "stdout",
     "output_type": "stream",
     "text": [
      "Scraping page 1\n",
      "   ---> 100 total reviews\n",
      "Scraping page 2\n",
      "   ---> 200 total reviews\n",
      "Scraping page 3\n",
      "   ---> 300 total reviews\n",
      "Scraping page 4\n",
      "   ---> 400 total reviews\n",
      "Scraping page 5\n",
      "   ---> 500 total reviews\n",
      "Scraping page 6\n",
      "   ---> 600 total reviews\n",
      "Scraping page 7\n",
      "   ---> 700 total reviews\n",
      "Scraping page 8\n",
      "   ---> 800 total reviews\n",
      "Scraping page 9\n",
      "   ---> 900 total reviews\n",
      "Scraping page 10\n",
      "   ---> 1000 total reviews\n",
      "Scraping page 11\n",
      "   ---> 1100 total reviews\n",
      "Scraping page 12\n",
      "   ---> 1200 total reviews\n",
      "Scraping page 13\n",
      "   ---> 1300 total reviews\n",
      "Scraping page 14\n",
      "   ---> 1400 total reviews\n",
      "Scraping page 15\n",
      "   ---> 1500 total reviews\n",
      "Scraping page 16\n",
      "   ---> 1600 total reviews\n",
      "Scraping page 17\n",
      "   ---> 1700 total reviews\n",
      "Scraping page 18\n",
      "   ---> 1800 total reviews\n",
      "Scraping page 19\n",
      "   ---> 1900 total reviews\n",
      "Scraping page 20\n",
      "   ---> 2000 total reviews\n",
      "Scraping page 21\n",
      "   ---> 2100 total reviews\n",
      "Scraping page 22\n",
      "   ---> 2200 total reviews\n",
      "Scraping page 23\n",
      "   ---> 2300 total reviews\n",
      "Scraping page 24\n",
      "   ---> 2400 total reviews\n",
      "Scraping page 25\n",
      "   ---> 2500 total reviews\n",
      "Scraping page 26\n",
      "   ---> 2600 total reviews\n",
      "Scraping page 27\n",
      "   ---> 2700 total reviews\n",
      "Scraping page 28\n",
      "   ---> 2800 total reviews\n",
      "Scraping page 29\n",
      "   ---> 2900 total reviews\n",
      "Scraping page 30\n",
      "   ---> 3000 total reviews\n",
      "Scraping page 31\n",
      "   ---> 3100 total reviews\n",
      "Scraping page 32\n",
      "   ---> 3200 total reviews\n",
      "Scraping page 33\n",
      "   ---> 3300 total reviews\n",
      "Scraping page 34\n",
      "   ---> 3400 total reviews\n",
      "Scraping page 35\n",
      "   ---> 3500 total reviews\n",
      "Scraping page 36\n",
      "   ---> 3600 total reviews\n",
      "Scraping page 37\n",
      "   ---> 3700 total reviews\n",
      "Scraping page 38\n",
      "   ---> 3800 total reviews\n",
      "Scraping page 39\n",
      "   ---> 3805 total reviews\n"
     ]
    }
   ],
   "source": [
    "base_url = \"https://www.airlinequality.com/airline-reviews/british-airways\"\n",
    "pages = 39\n",
    "page_size = 100\n",
    "\n",
    "reviews = []\n",
    "\n",
    "# for i in range(1, pages + 1):\n",
    "for i in range(1, pages + 1):\n",
    "\n",
    "    print(f\"Scraping page {i}\")\n",
    "\n",
    "    # Create URL to collect links from paginated data\n",
    "    url = f\"{base_url}/page/{i}/?sortby=post_date%3ADesc&pagesize={page_size}\"\n",
    "\n",
    "    # Collect HTML data from this page\n",
    "    response = requests.get(url)\n",
    "\n",
    "    # Parse content\n",
    "    content = response.content\n",
    "    parsed_content = BeautifulSoup(content, 'html.parser')\n",
    "    for para in parsed_content.find_all(\"div\", {\"class\": \"text_content\"}):\n",
    "        reviews.append(para.get_text())\n",
    "\n",
    "    print(f\"   ---> {len(reviews)} total reviews\")"
   ]
  },
  {
   "cell_type": "code",
   "execution_count": 6,
   "metadata": {},
   "outputs": [
    {
     "data": {
      "text/html": [
       "<div>\n",
       "<style scoped>\n",
       "    .dataframe tbody tr th:only-of-type {\n",
       "        vertical-align: middle;\n",
       "    }\n",
       "\n",
       "    .dataframe tbody tr th {\n",
       "        vertical-align: top;\n",
       "    }\n",
       "\n",
       "    .dataframe thead th {\n",
       "        text-align: right;\n",
       "    }\n",
       "</style>\n",
       "<table border=\"1\" class=\"dataframe\">\n",
       "  <thead>\n",
       "    <tr style=\"text-align: right;\">\n",
       "      <th></th>\n",
       "      <th>0</th>\n",
       "    </tr>\n",
       "  </thead>\n",
       "  <tbody>\n",
       "    <tr>\n",
       "      <th>0</th>\n",
       "      <td>Not Verified |  We had a Premium Economy retur...</td>\n",
       "    </tr>\n",
       "    <tr>\n",
       "      <th>1</th>\n",
       "      <td>✅ Trip Verified |  I should like to review my ...</td>\n",
       "    </tr>\n",
       "    <tr>\n",
       "      <th>2</th>\n",
       "      <td>✅ Trip Verified | We have flown with British A...</td>\n",
       "    </tr>\n",
       "    <tr>\n",
       "      <th>3</th>\n",
       "      <td>✅ Trip Verified | I sat in the plane at Vienna...</td>\n",
       "    </tr>\n",
       "    <tr>\n",
       "      <th>4</th>\n",
       "      <td>✅ Trip Verified | It is almost 11pm we were su...</td>\n",
       "    </tr>\n",
       "  </tbody>\n",
       "</table>\n",
       "</div>"
      ],
      "text/plain": [
       "                                                   0\n",
       "0  Not Verified |  We had a Premium Economy retur...\n",
       "1  ✅ Trip Verified |  I should like to review my ...\n",
       "2  ✅ Trip Verified | We have flown with British A...\n",
       "3  ✅ Trip Verified | I sat in the plane at Vienna...\n",
       "4  ✅ Trip Verified | It is almost 11pm we were su..."
      ]
     },
     "execution_count": 6,
     "metadata": {},
     "output_type": "execute_result"
    }
   ],
   "source": [
    "df = pd.DataFrame(reviews)\n",
    "df.head()"
   ]
  },
  {
   "cell_type": "code",
   "execution_count": 10,
   "metadata": {},
   "outputs": [
    {
     "data": {
      "text/plain": [
       "(3805, 1)"
      ]
     },
     "execution_count": 10,
     "metadata": {},
     "output_type": "execute_result"
    }
   ],
   "source": [
    "df.shape\n"
   ]
  },
  {
   "cell_type": "markdown",
   "metadata": {},
   "source": [
    "# Data Cleaning & Preprocessing "
   ]
  },
  {
   "cell_type": "markdown",
   "metadata": {},
   "source": [
    "#### Lowercase Conversion"
   ]
  },
  {
   "cell_type": "code",
   "execution_count": 19,
   "metadata": {},
   "outputs": [
    {
     "data": {
      "text/html": [
       "<div>\n",
       "<style scoped>\n",
       "    .dataframe tbody tr th:only-of-type {\n",
       "        vertical-align: middle;\n",
       "    }\n",
       "\n",
       "    .dataframe tbody tr th {\n",
       "        vertical-align: top;\n",
       "    }\n",
       "\n",
       "    .dataframe thead th {\n",
       "        text-align: right;\n",
       "    }\n",
       "</style>\n",
       "<table border=\"1\" class=\"dataframe\">\n",
       "  <thead>\n",
       "    <tr style=\"text-align: right;\">\n",
       "      <th></th>\n",
       "      <th>reviews</th>\n",
       "      <th>lowercase</th>\n",
       "    </tr>\n",
       "  </thead>\n",
       "  <tbody>\n",
       "    <tr>\n",
       "      <th>0</th>\n",
       "      <td>Not Verified |  We had a Premium Economy retur...</td>\n",
       "      <td>not verified |  we had a premium economy retur...</td>\n",
       "    </tr>\n",
       "    <tr>\n",
       "      <th>1</th>\n",
       "      <td>✅ Trip Verified |  I should like to review my ...</td>\n",
       "      <td>✅ trip verified |  i should like to review my ...</td>\n",
       "    </tr>\n",
       "    <tr>\n",
       "      <th>2</th>\n",
       "      <td>✅ Trip Verified | We have flown with British A...</td>\n",
       "      <td>✅ trip verified | we have flown with british a...</td>\n",
       "    </tr>\n",
       "    <tr>\n",
       "      <th>3</th>\n",
       "      <td>✅ Trip Verified | I sat in the plane at Vienna...</td>\n",
       "      <td>✅ trip verified | i sat in the plane at vienna...</td>\n",
       "    </tr>\n",
       "    <tr>\n",
       "      <th>4</th>\n",
       "      <td>✅ Trip Verified | It is almost 11pm we were su...</td>\n",
       "      <td>✅ trip verified | it is almost 11pm we were su...</td>\n",
       "    </tr>\n",
       "  </tbody>\n",
       "</table>\n",
       "</div>"
      ],
      "text/plain": [
       "                                             reviews  \\\n",
       "0  Not Verified |  We had a Premium Economy retur...   \n",
       "1  ✅ Trip Verified |  I should like to review my ...   \n",
       "2  ✅ Trip Verified | We have flown with British A...   \n",
       "3  ✅ Trip Verified | I sat in the plane at Vienna...   \n",
       "4  ✅ Trip Verified | It is almost 11pm we were su...   \n",
       "\n",
       "                                           lowercase  \n",
       "0  not verified |  we had a premium economy retur...  \n",
       "1  ✅ trip verified |  i should like to review my ...  \n",
       "2  ✅ trip verified | we have flown with british a...  \n",
       "3  ✅ trip verified | i sat in the plane at vienna...  \n",
       "4  ✅ trip verified | it is almost 11pm we were su...  "
      ]
     },
     "execution_count": 19,
     "metadata": {},
     "output_type": "execute_result"
    }
   ],
   "source": [
    "# Lowercase Conversion\n",
    "df = df.rename(columns={0: 'reviews'})\n",
    "df[\"lowercase\"] = df['reviews'].str.lower()\n",
    "df.head()"
   ]
  },
  {
   "cell_type": "markdown",
   "metadata": {},
   "source": [
    "#### Removal of Punctuation"
   ]
  },
  {
   "cell_type": "code",
   "execution_count": 22,
   "metadata": {},
   "outputs": [
    {
     "data": {
      "text/html": [
       "<div>\n",
       "<style scoped>\n",
       "    .dataframe tbody tr th:only-of-type {\n",
       "        vertical-align: middle;\n",
       "    }\n",
       "\n",
       "    .dataframe tbody tr th {\n",
       "        vertical-align: top;\n",
       "    }\n",
       "\n",
       "    .dataframe thead th {\n",
       "        text-align: right;\n",
       "    }\n",
       "</style>\n",
       "<table border=\"1\" class=\"dataframe\">\n",
       "  <thead>\n",
       "    <tr style=\"text-align: right;\">\n",
       "      <th></th>\n",
       "      <th>reviews</th>\n",
       "      <th>lowercase</th>\n",
       "      <th>text_with_no_punc</th>\n",
       "    </tr>\n",
       "  </thead>\n",
       "  <tbody>\n",
       "    <tr>\n",
       "      <th>0</th>\n",
       "      <td>Not Verified |  We had a Premium Economy retur...</td>\n",
       "      <td>not verified |  we had a premium economy retur...</td>\n",
       "      <td>not verified   we had a premium economy return...</td>\n",
       "    </tr>\n",
       "    <tr>\n",
       "      <th>1</th>\n",
       "      <td>✅ Trip Verified |  I should like to review my ...</td>\n",
       "      <td>✅ trip verified |  i should like to review my ...</td>\n",
       "      <td>✅ trip verified   i should like to review my f...</td>\n",
       "    </tr>\n",
       "    <tr>\n",
       "      <th>2</th>\n",
       "      <td>✅ Trip Verified | We have flown with British A...</td>\n",
       "      <td>✅ trip verified | we have flown with british a...</td>\n",
       "      <td>✅ trip verified  we have flown with british ai...</td>\n",
       "    </tr>\n",
       "    <tr>\n",
       "      <th>3</th>\n",
       "      <td>✅ Trip Verified | I sat in the plane at Vienna...</td>\n",
       "      <td>✅ trip verified | i sat in the plane at vienna...</td>\n",
       "      <td>✅ trip verified  i sat in the plane at vienna ...</td>\n",
       "    </tr>\n",
       "    <tr>\n",
       "      <th>4</th>\n",
       "      <td>✅ Trip Verified | It is almost 11pm we were su...</td>\n",
       "      <td>✅ trip verified | it is almost 11pm we were su...</td>\n",
       "      <td>✅ trip verified  it is almost 11pm we were sup...</td>\n",
       "    </tr>\n",
       "  </tbody>\n",
       "</table>\n",
       "</div>"
      ],
      "text/plain": [
       "                                             reviews  \\\n",
       "0  Not Verified |  We had a Premium Economy retur...   \n",
       "1  ✅ Trip Verified |  I should like to review my ...   \n",
       "2  ✅ Trip Verified | We have flown with British A...   \n",
       "3  ✅ Trip Verified | I sat in the plane at Vienna...   \n",
       "4  ✅ Trip Verified | It is almost 11pm we were su...   \n",
       "\n",
       "                                           lowercase  \\\n",
       "0  not verified |  we had a premium economy retur...   \n",
       "1  ✅ trip verified |  i should like to review my ...   \n",
       "2  ✅ trip verified | we have flown with british a...   \n",
       "3  ✅ trip verified | i sat in the plane at vienna...   \n",
       "4  ✅ trip verified | it is almost 11pm we were su...   \n",
       "\n",
       "                                   text_with_no_punc  \n",
       "0  not verified   we had a premium economy return...  \n",
       "1  ✅ trip verified   i should like to review my f...  \n",
       "2  ✅ trip verified  we have flown with british ai...  \n",
       "3  ✅ trip verified  i sat in the plane at vienna ...  \n",
       "4  ✅ trip verified  it is almost 11pm we were sup...  "
      ]
     },
     "execution_count": 22,
     "metadata": {},
     "output_type": "execute_result"
    }
   ],
   "source": [
    "# Removal of Punctuation\n",
    "punct_to_remove = string.punctuation\n",
    "\n",
    "def remove_punctuations(text):\n",
    "    return text.translate(str.maketrans('', '', punct_to_remove))\n",
    "\n",
    "df['text_with_no_punc'] = df['lowercase'].apply(lambda text: remove_punctuations(text))\n",
    "df.head()"
   ]
  },
  {
   "cell_type": "markdown",
   "metadata": {},
   "source": [
    "#### Removal of Stopwords"
   ]
  },
  {
   "cell_type": "code",
   "execution_count": 29,
   "metadata": {},
   "outputs": [
    {
     "name": "stderr",
     "output_type": "stream",
     "text": [
      "[nltk_data] Downloading package stopwords to\n",
      "[nltk_data]     /Users/ricardordoriguez/nltk_data...\n",
      "[nltk_data]   Package stopwords is already up-to-date!\n"
     ]
    },
    {
     "data": {
      "text/plain": [
       "True"
      ]
     },
     "execution_count": 29,
     "metadata": {},
     "output_type": "execute_result"
    }
   ],
   "source": [
    "nltk.download('stopwords')"
   ]
  },
  {
   "cell_type": "code",
   "execution_count": 34,
   "metadata": {},
   "outputs": [
    {
     "data": {
      "text/html": [
       "<div>\n",
       "<style scoped>\n",
       "    .dataframe tbody tr th:only-of-type {\n",
       "        vertical-align: middle;\n",
       "    }\n",
       "\n",
       "    .dataframe tbody tr th {\n",
       "        vertical-align: top;\n",
       "    }\n",
       "\n",
       "    .dataframe thead th {\n",
       "        text-align: right;\n",
       "    }\n",
       "</style>\n",
       "<table border=\"1\" class=\"dataframe\">\n",
       "  <thead>\n",
       "    <tr style=\"text-align: right;\">\n",
       "      <th></th>\n",
       "      <th>reviews</th>\n",
       "      <th>lowercase</th>\n",
       "      <th>text_with_no_punc</th>\n",
       "      <th>no_stop_words</th>\n",
       "    </tr>\n",
       "  </thead>\n",
       "  <tbody>\n",
       "    <tr>\n",
       "      <th>0</th>\n",
       "      <td>Not Verified |  We had a Premium Economy retur...</td>\n",
       "      <td>not verified |  we had a premium economy retur...</td>\n",
       "      <td>not verified   we had a premium economy return...</td>\n",
       "      <td>verified premium economy return flight los ang...</td>\n",
       "    </tr>\n",
       "    <tr>\n",
       "      <th>1</th>\n",
       "      <td>✅ Trip Verified |  I should like to review my ...</td>\n",
       "      <td>✅ trip verified |  i should like to review my ...</td>\n",
       "      <td>✅ trip verified   i should like to review my f...</td>\n",
       "      <td>✅ trip verified like review flight british air...</td>\n",
       "    </tr>\n",
       "    <tr>\n",
       "      <th>2</th>\n",
       "      <td>✅ Trip Verified | We have flown with British A...</td>\n",
       "      <td>✅ trip verified | we have flown with british a...</td>\n",
       "      <td>✅ trip verified  we have flown with british ai...</td>\n",
       "      <td>✅ trip verified flown british airways times la...</td>\n",
       "    </tr>\n",
       "    <tr>\n",
       "      <th>3</th>\n",
       "      <td>✅ Trip Verified | I sat in the plane at Vienna...</td>\n",
       "      <td>✅ trip verified | i sat in the plane at vienna...</td>\n",
       "      <td>✅ trip verified  i sat in the plane at vienna ...</td>\n",
       "      <td>✅ trip verified sat plane vienna airport three...</td>\n",
       "    </tr>\n",
       "    <tr>\n",
       "      <th>4</th>\n",
       "      <td>✅ Trip Verified | It is almost 11pm we were su...</td>\n",
       "      <td>✅ trip verified | it is almost 11pm we were su...</td>\n",
       "      <td>✅ trip verified  it is almost 11pm we were sup...</td>\n",
       "      <td>✅ trip verified almost 11pm supposed take 1920...</td>\n",
       "    </tr>\n",
       "  </tbody>\n",
       "</table>\n",
       "</div>"
      ],
      "text/plain": [
       "                                             reviews  \\\n",
       "0  Not Verified |  We had a Premium Economy retur...   \n",
       "1  ✅ Trip Verified |  I should like to review my ...   \n",
       "2  ✅ Trip Verified | We have flown with British A...   \n",
       "3  ✅ Trip Verified | I sat in the plane at Vienna...   \n",
       "4  ✅ Trip Verified | It is almost 11pm we were su...   \n",
       "\n",
       "                                           lowercase  \\\n",
       "0  not verified |  we had a premium economy retur...   \n",
       "1  ✅ trip verified |  i should like to review my ...   \n",
       "2  ✅ trip verified | we have flown with british a...   \n",
       "3  ✅ trip verified | i sat in the plane at vienna...   \n",
       "4  ✅ trip verified | it is almost 11pm we were su...   \n",
       "\n",
       "                                   text_with_no_punc  \\\n",
       "0  not verified   we had a premium economy return...   \n",
       "1  ✅ trip verified   i should like to review my f...   \n",
       "2  ✅ trip verified  we have flown with british ai...   \n",
       "3  ✅ trip verified  i sat in the plane at vienna ...   \n",
       "4  ✅ trip verified  it is almost 11pm we were sup...   \n",
       "\n",
       "                                       no_stop_words  \n",
       "0  verified premium economy return flight los ang...  \n",
       "1  ✅ trip verified like review flight british air...  \n",
       "2  ✅ trip verified flown british airways times la...  \n",
       "3  ✅ trip verified sat plane vienna airport three...  \n",
       "4  ✅ trip verified almost 11pm supposed take 1920...  "
      ]
     },
     "execution_count": 34,
     "metadata": {},
     "output_type": "execute_result"
    }
   ],
   "source": [
    "# Removal of Stopwords\n",
    "sw = stopwords.words('english')\n",
    "\n",
    "df[\"no_stop_words\"] = df[\"text_with_no_punc\"].apply(lambda x: \" \".join(x for x in str(x).split() if x not in sw))\n",
    "df.head()"
   ]
  },
  {
   "cell_type": "markdown",
   "metadata": {},
   "source": [
    "#### Removal of Frequent and rare words"
   ]
  },
  {
   "cell_type": "code",
   "execution_count": 49,
   "metadata": {},
   "outputs": [
    {
     "data": {
      "text/plain": [
       "[('flight', 6830),\n",
       " ('ba', 4694),\n",
       " ('service', 2904),\n",
       " ('seat', 2425),\n",
       " ('food', 2388),\n",
       " ('verified', 2267),\n",
       " ('crew', 2218),\n",
       " ('british', 2216),\n",
       " ('london', 2215),\n",
       " ('airways', 2191)]"
      ]
     },
     "execution_count": 49,
     "metadata": {},
     "output_type": "execute_result"
    }
   ],
   "source": [
    "cnt = Counter()\n",
    "for text in df[\"no_stop_words\"].values:\n",
    "    for word in text.split():\n",
    "        cnt[word] += 1\n",
    "\n",
    "cnt.most_common(10)"
   ]
  },
  {
   "cell_type": "code",
   "execution_count": 40,
   "metadata": {},
   "outputs": [
    {
     "data": {
      "text/html": [
       "<div>\n",
       "<style scoped>\n",
       "    .dataframe tbody tr th:only-of-type {\n",
       "        vertical-align: middle;\n",
       "    }\n",
       "\n",
       "    .dataframe tbody tr th {\n",
       "        vertical-align: top;\n",
       "    }\n",
       "\n",
       "    .dataframe thead th {\n",
       "        text-align: right;\n",
       "    }\n",
       "</style>\n",
       "<table border=\"1\" class=\"dataframe\">\n",
       "  <thead>\n",
       "    <tr style=\"text-align: right;\">\n",
       "      <th></th>\n",
       "      <th>reviews</th>\n",
       "      <th>lowercase</th>\n",
       "      <th>text_with_no_punc</th>\n",
       "      <th>no_stop_words</th>\n",
       "      <th>no_frq_words</th>\n",
       "    </tr>\n",
       "  </thead>\n",
       "  <tbody>\n",
       "    <tr>\n",
       "      <th>0</th>\n",
       "      <td>Not Verified |  We had a Premium Economy retur...</td>\n",
       "      <td>not verified |  we had a premium economy retur...</td>\n",
       "      <td>not verified   we had a premium economy return...</td>\n",
       "      <td>verified premium economy return flight los ang...</td>\n",
       "      <td>premium economy return los angeles outbound ca...</td>\n",
       "    </tr>\n",
       "    <tr>\n",
       "      <th>1</th>\n",
       "      <td>✅ Trip Verified |  I should like to review my ...</td>\n",
       "      <td>✅ trip verified |  i should like to review my ...</td>\n",
       "      <td>✅ trip verified   i should like to review my f...</td>\n",
       "      <td>✅ trip verified like review flight british air...</td>\n",
       "      <td>✅ trip like review hannover heathrow firstly w...</td>\n",
       "    </tr>\n",
       "    <tr>\n",
       "      <th>2</th>\n",
       "      <td>✅ Trip Verified | We have flown with British A...</td>\n",
       "      <td>✅ trip verified | we have flown with british a...</td>\n",
       "      <td>✅ trip verified  we have flown with british ai...</td>\n",
       "      <td>✅ trip verified flown british airways times la...</td>\n",
       "      <td>✅ trip flown times last trip far worst experie...</td>\n",
       "    </tr>\n",
       "    <tr>\n",
       "      <th>3</th>\n",
       "      <td>✅ Trip Verified | I sat in the plane at Vienna...</td>\n",
       "      <td>✅ trip verified | i sat in the plane at vienna...</td>\n",
       "      <td>✅ trip verified  i sat in the plane at vienna ...</td>\n",
       "      <td>✅ trip verified sat plane vienna airport three...</td>\n",
       "      <td>✅ trip sat plane vienna airport three hours di...</td>\n",
       "    </tr>\n",
       "    <tr>\n",
       "      <th>4</th>\n",
       "      <td>✅ Trip Verified | It is almost 11pm we were su...</td>\n",
       "      <td>✅ trip verified | it is almost 11pm we were su...</td>\n",
       "      <td>✅ trip verified  it is almost 11pm we were sup...</td>\n",
       "      <td>✅ trip verified almost 11pm supposed take 1920...</td>\n",
       "      <td>✅ trip almost 11pm supposed take 1920 still si...</td>\n",
       "    </tr>\n",
       "  </tbody>\n",
       "</table>\n",
       "</div>"
      ],
      "text/plain": [
       "                                             reviews  \\\n",
       "0  Not Verified |  We had a Premium Economy retur...   \n",
       "1  ✅ Trip Verified |  I should like to review my ...   \n",
       "2  ✅ Trip Verified | We have flown with British A...   \n",
       "3  ✅ Trip Verified | I sat in the plane at Vienna...   \n",
       "4  ✅ Trip Verified | It is almost 11pm we were su...   \n",
       "\n",
       "                                           lowercase  \\\n",
       "0  not verified |  we had a premium economy retur...   \n",
       "1  ✅ trip verified |  i should like to review my ...   \n",
       "2  ✅ trip verified | we have flown with british a...   \n",
       "3  ✅ trip verified | i sat in the plane at vienna...   \n",
       "4  ✅ trip verified | it is almost 11pm we were su...   \n",
       "\n",
       "                                   text_with_no_punc  \\\n",
       "0  not verified   we had a premium economy return...   \n",
       "1  ✅ trip verified   i should like to review my f...   \n",
       "2  ✅ trip verified  we have flown with british ai...   \n",
       "3  ✅ trip verified  i sat in the plane at vienna ...   \n",
       "4  ✅ trip verified  it is almost 11pm we were sup...   \n",
       "\n",
       "                                       no_stop_words  \\\n",
       "0  verified premium economy return flight los ang...   \n",
       "1  ✅ trip verified like review flight british air...   \n",
       "2  ✅ trip verified flown british airways times la...   \n",
       "3  ✅ trip verified sat plane vienna airport three...   \n",
       "4  ✅ trip verified almost 11pm supposed take 1920...   \n",
       "\n",
       "                                        no_frq_words  \n",
       "0  premium economy return los angeles outbound ca...  \n",
       "1  ✅ trip like review hannover heathrow firstly w...  \n",
       "2  ✅ trip flown times last trip far worst experie...  \n",
       "3  ✅ trip sat plane vienna airport three hours di...  \n",
       "4  ✅ trip almost 11pm supposed take 1920 still si...  "
      ]
     },
     "execution_count": 40,
     "metadata": {},
     "output_type": "execute_result"
    }
   ],
   "source": [
    "FREQWORDS = set([w for (w, wc) in cnt.most_common(10)])\n",
    "\n",
    "df[\"no_frq_words\"] = df[\"no_stop_words\"].apply(lambda text: \" \".join([word for word in str(text).split() if word not in FREQWORDS]))\n",
    "df.head()       "
   ]
  },
  {
   "cell_type": "code",
   "execution_count": 51,
   "metadata": {},
   "outputs": [
    {
     "data": {
      "text/html": [
       "<div>\n",
       "<style scoped>\n",
       "    .dataframe tbody tr th:only-of-type {\n",
       "        vertical-align: middle;\n",
       "    }\n",
       "\n",
       "    .dataframe tbody tr th {\n",
       "        vertical-align: top;\n",
       "    }\n",
       "\n",
       "    .dataframe thead th {\n",
       "        text-align: right;\n",
       "    }\n",
       "</style>\n",
       "<table border=\"1\" class=\"dataframe\">\n",
       "  <thead>\n",
       "    <tr style=\"text-align: right;\">\n",
       "      <th></th>\n",
       "      <th>reviews</th>\n",
       "      <th>lowercase</th>\n",
       "      <th>text_with_no_punc</th>\n",
       "      <th>no_stop_words</th>\n",
       "      <th>no_frq_words</th>\n",
       "      <th>no_frq_rare_words</th>\n",
       "    </tr>\n",
       "  </thead>\n",
       "  <tbody>\n",
       "    <tr>\n",
       "      <th>0</th>\n",
       "      <td>Not Verified |  We had a Premium Economy retur...</td>\n",
       "      <td>not verified |  we had a premium economy retur...</td>\n",
       "      <td>not verified   we had a premium economy return...</td>\n",
       "      <td>verified premium economy return flight los ang...</td>\n",
       "      <td>premium economy return los angeles outbound ca...</td>\n",
       "      <td>premium economy return los angeles outbound ca...</td>\n",
       "    </tr>\n",
       "    <tr>\n",
       "      <th>1</th>\n",
       "      <td>✅ Trip Verified |  I should like to review my ...</td>\n",
       "      <td>✅ trip verified |  i should like to review my ...</td>\n",
       "      <td>✅ trip verified   i should like to review my f...</td>\n",
       "      <td>✅ trip verified like review flight british air...</td>\n",
       "      <td>✅ trip like review hannover heathrow firstly w...</td>\n",
       "      <td>✅ trip like review hannover heathrow firstly w...</td>\n",
       "    </tr>\n",
       "    <tr>\n",
       "      <th>2</th>\n",
       "      <td>✅ Trip Verified | We have flown with British A...</td>\n",
       "      <td>✅ trip verified | we have flown with british a...</td>\n",
       "      <td>✅ trip verified  we have flown with british ai...</td>\n",
       "      <td>✅ trip verified flown british airways times la...</td>\n",
       "      <td>✅ trip flown times last trip far worst experie...</td>\n",
       "      <td>✅ trip flown times last trip far worst experie...</td>\n",
       "    </tr>\n",
       "    <tr>\n",
       "      <th>3</th>\n",
       "      <td>✅ Trip Verified | I sat in the plane at Vienna...</td>\n",
       "      <td>✅ trip verified | i sat in the plane at vienna...</td>\n",
       "      <td>✅ trip verified  i sat in the plane at vienna ...</td>\n",
       "      <td>✅ trip verified sat plane vienna airport three...</td>\n",
       "      <td>✅ trip sat plane vienna airport three hours di...</td>\n",
       "      <td>✅ trip sat plane vienna airport three hours di...</td>\n",
       "    </tr>\n",
       "    <tr>\n",
       "      <th>4</th>\n",
       "      <td>✅ Trip Verified | It is almost 11pm we were su...</td>\n",
       "      <td>✅ trip verified | it is almost 11pm we were su...</td>\n",
       "      <td>✅ trip verified  it is almost 11pm we were sup...</td>\n",
       "      <td>✅ trip verified almost 11pm supposed take 1920...</td>\n",
       "      <td>✅ trip almost 11pm supposed take 1920 still si...</td>\n",
       "      <td>✅ trip almost 11pm supposed take 1920 still si...</td>\n",
       "    </tr>\n",
       "  </tbody>\n",
       "</table>\n",
       "</div>"
      ],
      "text/plain": [
       "                                             reviews  \\\n",
       "0  Not Verified |  We had a Premium Economy retur...   \n",
       "1  ✅ Trip Verified |  I should like to review my ...   \n",
       "2  ✅ Trip Verified | We have flown with British A...   \n",
       "3  ✅ Trip Verified | I sat in the plane at Vienna...   \n",
       "4  ✅ Trip Verified | It is almost 11pm we were su...   \n",
       "\n",
       "                                           lowercase  \\\n",
       "0  not verified |  we had a premium economy retur...   \n",
       "1  ✅ trip verified |  i should like to review my ...   \n",
       "2  ✅ trip verified | we have flown with british a...   \n",
       "3  ✅ trip verified | i sat in the plane at vienna...   \n",
       "4  ✅ trip verified | it is almost 11pm we were su...   \n",
       "\n",
       "                                   text_with_no_punc  \\\n",
       "0  not verified   we had a premium economy return...   \n",
       "1  ✅ trip verified   i should like to review my f...   \n",
       "2  ✅ trip verified  we have flown with british ai...   \n",
       "3  ✅ trip verified  i sat in the plane at vienna ...   \n",
       "4  ✅ trip verified  it is almost 11pm we were sup...   \n",
       "\n",
       "                                       no_stop_words  \\\n",
       "0  verified premium economy return flight los ang...   \n",
       "1  ✅ trip verified like review flight british air...   \n",
       "2  ✅ trip verified flown british airways times la...   \n",
       "3  ✅ trip verified sat plane vienna airport three...   \n",
       "4  ✅ trip verified almost 11pm supposed take 1920...   \n",
       "\n",
       "                                        no_frq_words  \\\n",
       "0  premium economy return los angeles outbound ca...   \n",
       "1  ✅ trip like review hannover heathrow firstly w...   \n",
       "2  ✅ trip flown times last trip far worst experie...   \n",
       "3  ✅ trip sat plane vienna airport three hours di...   \n",
       "4  ✅ trip almost 11pm supposed take 1920 still si...   \n",
       "\n",
       "                                   no_frq_rare_words  \n",
       "0  premium economy return los angeles outbound ca...  \n",
       "1  ✅ trip like review hannover heathrow firstly w...  \n",
       "2  ✅ trip flown times last trip far worst experie...  \n",
       "3  ✅ trip sat plane vienna airport three hours di...  \n",
       "4  ✅ trip almost 11pm supposed take 1920 still si...  "
      ]
     },
     "execution_count": 51,
     "metadata": {},
     "output_type": "execute_result"
    }
   ],
   "source": [
    "n_rare_words = 20\n",
    "RAREWORDS = set([w for (w, wc) in cnt.most_common()[:-n_rare_words-1:-1]])\n",
    "\n",
    "df[\"no_frq_rare_words\"] = df[\"no_frq_words\"].apply(lambda text: \" \".join([word for word in str(text).split() if word not in RAREWORDS]))\n",
    "df.head()"
   ]
  },
  {
   "cell_type": "markdown",
   "metadata": {},
   "source": [
    "#### Remove Emojis"
   ]
  },
  {
   "cell_type": "code",
   "execution_count": 53,
   "metadata": {},
   "outputs": [
    {
     "data": {
      "text/html": [
       "<div>\n",
       "<style scoped>\n",
       "    .dataframe tbody tr th:only-of-type {\n",
       "        vertical-align: middle;\n",
       "    }\n",
       "\n",
       "    .dataframe tbody tr th {\n",
       "        vertical-align: top;\n",
       "    }\n",
       "\n",
       "    .dataframe thead th {\n",
       "        text-align: right;\n",
       "    }\n",
       "</style>\n",
       "<table border=\"1\" class=\"dataframe\">\n",
       "  <thead>\n",
       "    <tr style=\"text-align: right;\">\n",
       "      <th></th>\n",
       "      <th>reviews</th>\n",
       "      <th>lowercase</th>\n",
       "      <th>text_with_no_punc</th>\n",
       "      <th>no_stop_words</th>\n",
       "      <th>no_frq_words</th>\n",
       "      <th>no_frq_rare_words</th>\n",
       "      <th>no_emojis</th>\n",
       "    </tr>\n",
       "  </thead>\n",
       "  <tbody>\n",
       "    <tr>\n",
       "      <th>0</th>\n",
       "      <td>Not Verified |  We had a Premium Economy retur...</td>\n",
       "      <td>not verified |  we had a premium economy retur...</td>\n",
       "      <td>not verified   we had a premium economy return...</td>\n",
       "      <td>verified premium economy return flight los ang...</td>\n",
       "      <td>premium economy return los angeles outbound ca...</td>\n",
       "      <td>premium economy return los angeles outbound ca...</td>\n",
       "      <td>premium economy return los angeles outbound ca...</td>\n",
       "    </tr>\n",
       "    <tr>\n",
       "      <th>1</th>\n",
       "      <td>✅ Trip Verified |  I should like to review my ...</td>\n",
       "      <td>✅ trip verified |  i should like to review my ...</td>\n",
       "      <td>✅ trip verified   i should like to review my f...</td>\n",
       "      <td>✅ trip verified like review flight british air...</td>\n",
       "      <td>✅ trip like review hannover heathrow firstly w...</td>\n",
       "      <td>✅ trip like review hannover heathrow firstly w...</td>\n",
       "      <td>trip like review hannover heathrow firstly we...</td>\n",
       "    </tr>\n",
       "    <tr>\n",
       "      <th>2</th>\n",
       "      <td>✅ Trip Verified | We have flown with British A...</td>\n",
       "      <td>✅ trip verified | we have flown with british a...</td>\n",
       "      <td>✅ trip verified  we have flown with british ai...</td>\n",
       "      <td>✅ trip verified flown british airways times la...</td>\n",
       "      <td>✅ trip flown times last trip far worst experie...</td>\n",
       "      <td>✅ trip flown times last trip far worst experie...</td>\n",
       "      <td>trip flown times last trip far worst experien...</td>\n",
       "    </tr>\n",
       "    <tr>\n",
       "      <th>3</th>\n",
       "      <td>✅ Trip Verified | I sat in the plane at Vienna...</td>\n",
       "      <td>✅ trip verified | i sat in the plane at vienna...</td>\n",
       "      <td>✅ trip verified  i sat in the plane at vienna ...</td>\n",
       "      <td>✅ trip verified sat plane vienna airport three...</td>\n",
       "      <td>✅ trip sat plane vienna airport three hours di...</td>\n",
       "      <td>✅ trip sat plane vienna airport three hours di...</td>\n",
       "      <td>trip sat plane vienna airport three hours did...</td>\n",
       "    </tr>\n",
       "    <tr>\n",
       "      <th>4</th>\n",
       "      <td>✅ Trip Verified | It is almost 11pm we were su...</td>\n",
       "      <td>✅ trip verified | it is almost 11pm we were su...</td>\n",
       "      <td>✅ trip verified  it is almost 11pm we were sup...</td>\n",
       "      <td>✅ trip verified almost 11pm supposed take 1920...</td>\n",
       "      <td>✅ trip almost 11pm supposed take 1920 still si...</td>\n",
       "      <td>✅ trip almost 11pm supposed take 1920 still si...</td>\n",
       "      <td>trip almost 11pm supposed take 1920 still sit...</td>\n",
       "    </tr>\n",
       "  </tbody>\n",
       "</table>\n",
       "</div>"
      ],
      "text/plain": [
       "                                             reviews  \\\n",
       "0  Not Verified |  We had a Premium Economy retur...   \n",
       "1  ✅ Trip Verified |  I should like to review my ...   \n",
       "2  ✅ Trip Verified | We have flown with British A...   \n",
       "3  ✅ Trip Verified | I sat in the plane at Vienna...   \n",
       "4  ✅ Trip Verified | It is almost 11pm we were su...   \n",
       "\n",
       "                                           lowercase  \\\n",
       "0  not verified |  we had a premium economy retur...   \n",
       "1  ✅ trip verified |  i should like to review my ...   \n",
       "2  ✅ trip verified | we have flown with british a...   \n",
       "3  ✅ trip verified | i sat in the plane at vienna...   \n",
       "4  ✅ trip verified | it is almost 11pm we were su...   \n",
       "\n",
       "                                   text_with_no_punc  \\\n",
       "0  not verified   we had a premium economy return...   \n",
       "1  ✅ trip verified   i should like to review my f...   \n",
       "2  ✅ trip verified  we have flown with british ai...   \n",
       "3  ✅ trip verified  i sat in the plane at vienna ...   \n",
       "4  ✅ trip verified  it is almost 11pm we were sup...   \n",
       "\n",
       "                                       no_stop_words  \\\n",
       "0  verified premium economy return flight los ang...   \n",
       "1  ✅ trip verified like review flight british air...   \n",
       "2  ✅ trip verified flown british airways times la...   \n",
       "3  ✅ trip verified sat plane vienna airport three...   \n",
       "4  ✅ trip verified almost 11pm supposed take 1920...   \n",
       "\n",
       "                                        no_frq_words  \\\n",
       "0  premium economy return los angeles outbound ca...   \n",
       "1  ✅ trip like review hannover heathrow firstly w...   \n",
       "2  ✅ trip flown times last trip far worst experie...   \n",
       "3  ✅ trip sat plane vienna airport three hours di...   \n",
       "4  ✅ trip almost 11pm supposed take 1920 still si...   \n",
       "\n",
       "                                   no_frq_rare_words  \\\n",
       "0  premium economy return los angeles outbound ca...   \n",
       "1  ✅ trip like review hannover heathrow firstly w...   \n",
       "2  ✅ trip flown times last trip far worst experie...   \n",
       "3  ✅ trip sat plane vienna airport three hours di...   \n",
       "4  ✅ trip almost 11pm supposed take 1920 still si...   \n",
       "\n",
       "                                           no_emojis  \n",
       "0  premium economy return los angeles outbound ca...  \n",
       "1   trip like review hannover heathrow firstly we...  \n",
       "2   trip flown times last trip far worst experien...  \n",
       "3   trip sat plane vienna airport three hours did...  \n",
       "4   trip almost 11pm supposed take 1920 still sit...  "
      ]
     },
     "execution_count": 53,
     "metadata": {},
     "output_type": "execute_result"
    }
   ],
   "source": [
    "\n",
    "def remove_emoji(string):\n",
    "    emoji_pattern = re.compile(\"[\"\n",
    "                           u\"\\U0001F600-\\U0001F64F\"  # emoticons\n",
    "                           u\"\\U0001F300-\\U0001F5FF\"  # symbols & pictographs\n",
    "                           u\"\\U0001F680-\\U0001F6FF\"  # transport & map symbols\n",
    "                           u\"\\U0001F1E0-\\U0001F1FF\"  # flags (iOS)\n",
    "                           u\"\\U00002702-\\U000027B0\"\n",
    "                           u\"\\U000024C2-\\U0001F251\"\n",
    "                           \"]+\", flags=re.UNICODE)\n",
    "    return emoji_pattern.sub(r'', string)\n",
    "\n",
    "df['no_emojis'] = df['no_frq_rare_words'].apply(lambda text: remove_emoji(text))\n",
    "df.head()"
   ]
  },
  {
   "cell_type": "markdown",
   "metadata": {},
   "source": [
    "#### Tokenization & Lemmatization"
   ]
  },
  {
   "cell_type": "code",
   "execution_count": 56,
   "metadata": {},
   "outputs": [
    {
     "name": "stderr",
     "output_type": "stream",
     "text": [
      "[nltk_data] Downloading package punkt to\n",
      "[nltk_data]     /Users/ricardordoriguez/nltk_data...\n",
      "[nltk_data]   Unzipping tokenizers/punkt.zip.\n"
     ]
    },
    {
     "data": {
      "text/plain": [
       "True"
      ]
     },
     "execution_count": 56,
     "metadata": {},
     "output_type": "execute_result"
    }
   ],
   "source": [
    "nltk.download('punkt')"
   ]
  },
  {
   "cell_type": "code",
   "execution_count": 62,
   "metadata": {},
   "outputs": [
    {
     "data": {
      "text/plain": [
       "0    [premium, economy, return, los, angeles, outbo...\n",
       "1    [trip, like, review, hannover, heathrow, first...\n",
       "2    [trip, flown, times, last, trip, far, worst, e...\n",
       "3    [trip, sat, plane, vienna, airport, three, hou...\n",
       "4    [trip, almost, 11pm, supposed, take, 1920, sti...\n",
       "Name: no_emojis, dtype: object"
      ]
     },
     "execution_count": 62,
     "metadata": {},
     "output_type": "execute_result"
    }
   ],
   "source": [
    "# Tokenization\n",
    "df['no_emojis'].apply(lambda x: TextBlob(x).words).head()"
   ]
  },
  {
   "cell_type": "code",
   "execution_count": 63,
   "metadata": {},
   "outputs": [
    {
     "name": "stderr",
     "output_type": "stream",
     "text": [
      "[nltk_data] Downloading package wordnet to\n",
      "[nltk_data]     /Users/ricardordoriguez/nltk_data...\n"
     ]
    },
    {
     "data": {
      "text/plain": [
       "True"
      ]
     },
     "execution_count": 63,
     "metadata": {},
     "output_type": "execute_result"
    }
   ],
   "source": [
    "nltk.download('wordnet')"
   ]
  },
  {
   "cell_type": "code",
   "execution_count": 64,
   "metadata": {},
   "outputs": [
    {
     "name": "stderr",
     "output_type": "stream",
     "text": [
      "[nltk_data] Downloading package omw-1.4 to\n",
      "[nltk_data]     /Users/ricardordoriguez/nltk_data...\n"
     ]
    },
    {
     "data": {
      "text/plain": [
       "True"
      ]
     },
     "execution_count": 64,
     "metadata": {},
     "output_type": "execute_result"
    }
   ],
   "source": [
    "nltk.download('omw-1.4')"
   ]
  },
  {
   "cell_type": "code",
   "execution_count": 69,
   "metadata": {},
   "outputs": [
    {
     "data": {
      "text/plain": [
       "0    premium economy return los angeles outbound ca...\n",
       "1    trip like review hannover heathrow firstly web...\n",
       "2    trip flown time last trip far worst experience...\n",
       "3    trip sat plane vienna airport three hour didnt...\n",
       "4    trip almost 11pm supposed take 1920 still sitt...\n",
       "Name: clean_text, dtype: object"
      ]
     },
     "execution_count": 69,
     "metadata": {},
     "output_type": "execute_result"
    }
   ],
   "source": [
    "# Lemmatization\n",
    "df['clean_text'] = df['no_emojis'].apply(lambda x: \" \".join([Word(word).lemmatize() for word in x.split()]))\n",
    "df['clean_text'].head()"
   ]
  },
  {
   "cell_type": "markdown",
   "metadata": {},
   "source": [
    "# Text Visualization"
   ]
  },
  {
   "cell_type": "markdown",
   "metadata": {},
   "source": [
    "#### Term Frequency (Barplot)"
   ]
  },
  {
   "cell_type": "code",
   "execution_count": 101,
   "metadata": {},
   "outputs": [],
   "source": [
    "# Get the word frequency count\n",
    "tf = Counter()\n",
    "for text in df[\"clean_text\"].values:\n",
    "    for word in text.split():\n",
    "        tf[word] += 1\n",
    "\n",
    "# Convert the Counter object to a DataFrame\n",
    "word_freq = pd.DataFrame.from_dict(tf, orient='index').reset_index()\n",
    "word_freq.columns = ['word', 'count']\n",
    "\n",
    "# Sort the results by frequency in descending order\n",
    "word_freq = word_freq.sort_values('count', ascending=False)\n"
   ]
  },
  {
   "cell_type": "code",
   "execution_count": 108,
   "metadata": {},
   "outputs": [
    {
     "data": {
      "image/png": "[encoded data removed]",
      "text/plain": [
       "<Figure size 640x480 with 1 Axes>"
      ]
     },
     "metadata": {},
     "output_type": "display_data"
    }
   ],
   "source": [
    "word_freq[word_freq[\"count\"] > 1500].plot.bar(x=\"word\", y=\"count\")\n",
    "plt.show(block=True)"
   ]
  },
  {
   "cell_type": "markdown",
   "metadata": {},
   "source": [
    "#### Wordcloud"
   ]
  },
  {
   "cell_type": "code",
   "execution_count": 111,
   "metadata": {},
   "outputs": [
    {
     "data": {
      "image/png": "[encoded data removed]",
      "text/plain": [
       "<Figure size 640x480 with 1 Axes>"
      ]
     },
     "metadata": {},
     "output_type": "display_data"
    }
   ],
   "source": [
    "text = \" \".join(i for i in df.clean_text)\n",
    "\n",
    "wordcloud = WordCloud().generate(text)\n",
    "plt.imshow(wordcloud, interpolation=\"bilinear\")\n",
    "plt.axis(\"off\")\n",
    "plt.show()"
   ]
  },
  {
   "cell_type": "code",
   "execution_count": null,
   "metadata": {},
   "outputs": [],
   "source": []
  }
 ],
 "metadata": {
  "kernelspec": {
   "display_name": "Python 3",
   "language": "python",
   "name": "python3"
  },
  "language_info": {
   "codemirror_mode": {
    "name": "ipython",
    "version": 3
   },
   "file_extension": ".py",
   "mimetype": "text/x-python",
   "name": "python",
   "nbconvert_exporter": "python",
   "pygments_lexer": "ipython3",
   "version": "3.11.7"
  }
 },
 "nbformat": 4,
 "nbformat_minor": 2
}
